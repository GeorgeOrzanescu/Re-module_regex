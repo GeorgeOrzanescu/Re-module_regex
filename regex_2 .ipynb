{
 "cells": [
  {
   "cell_type": "markdown",
   "metadata": {},
   "source": [
    "# Quantifiers — * + ? and {}\n",
    "    abc*        matches a string that has ab followed by zero or more c \n",
    "    abc+        matches a string that has ab followed by one or more c\n",
    "    abc?        matches a string that has ab followed by zero or one c\n",
    "    abc{2}      matches a string that has ab followed by 2 c\n",
    "    abc{2,}     matches a string that has ab followed by 2 or more c\n",
    "    abc{2,5}    matches a string that has ab followed by 2 up to 5 c\n",
    "    ( )         Group\n",
    "    []          Matches Characters in brackets  \n",
    "    a(bc)*      matches a string that has a followed by zero or more copies of the sequence bc\n",
    "    a(bc){2,5}  matches a string that has a followed by 2 up to 5 copies of the sequence bc"
   ]
  },
  {
   "cell_type": "code",
   "execution_count": 1,
   "metadata": {},
   "outputs": [],
   "source": [
    "import re"
   ]
  },
  {
   "cell_type": "code",
   "execution_count": 3,
   "metadata": {},
   "outputs": [],
   "source": [
    "text = \"\"\"Regular expressions (regex or regexp). 123 are \\extremely useful in extracting information \n",
    "from @any text by searching for one or more matches of a specific search pattern \n",
    "(i.e. a specific sequence of ASCII or unicode characters).\"\"\""
   ]
  },
  {
   "cell_type": "code",
   "execution_count": 5,
   "metadata": {},
   "outputs": [
    {
     "name": "stdout",
     "output_type": "stream",
     "text": [
      "<re.Match object; span=(11, 13), match='re'>\n",
      "<re.Match object; span=(21, 24), match='reg'>\n",
      "<re.Match object; span=(30, 33), match='reg'>\n",
      "<re.Match object; span=(44, 46), match='re'>\n",
      "<re.Match object; span=(51, 53), match='re'>\n",
      "<re.Match object; span=(133, 135), match='re'>\n"
     ]
    }
   ],
   "source": [
    "to_found = re.compile(r'reg*')\n",
    "for match in to_found.finditer(text):\n",
    "    print(match)"
   ]
  },
  {
   "cell_type": "markdown",
   "metadata": {},
   "source": [
    "## finditer()\n",
    "\n",
    "### Find all substrings where the RE matches, and returns them as an iterator."
   ]
  },
  {
   "cell_type": "code",
   "execution_count": 8,
   "metadata": {},
   "outputs": [
    {
     "data": {
      "text/plain": [
       "[<re.Match object; span=(21, 24), match='reg'>,\n",
       " <re.Match object; span=(30, 33), match='reg'>]"
      ]
     },
     "execution_count": 8,
     "metadata": {},
     "output_type": "execute_result"
    }
   ],
   "source": [
    "to_found = re.compile(r'reg+')\n",
    "found_regex = [word for word in to_found.finditer(text)]  #list comprehension\n",
    "found_regex"
   ]
  },
  {
   "cell_type": "markdown",
   "metadata": {},
   "source": [
    "#### span= is the index position of the matches found"
   ]
  },
  {
   "cell_type": "code",
   "execution_count": 9,
   "metadata": {},
   "outputs": [
    {
     "name": "stdout",
     "output_type": "stream",
     "text": [
      "<re.Match object; span=(11, 13), match='re'>\n",
      "<re.Match object; span=(21, 24), match='reg'>\n",
      "<re.Match object; span=(30, 33), match='reg'>\n",
      "<re.Match object; span=(44, 46), match='re'>\n",
      "<re.Match object; span=(51, 53), match='re'>\n",
      "<re.Match object; span=(133, 135), match='re'>\n"
     ]
    }
   ],
   "source": [
    "to_found = re.compile(r'reg?')\n",
    "for match in to_found.finditer(text):\n",
    "    print(match)"
   ]
  },
  {
   "cell_type": "markdown",
   "metadata": {},
   "source": [
    "###  MetaCharacters are special characters  that have a function when used in regex\n",
    "###  . ^ $ * + ? { } [ ] \\ | ( )\n",
    "\n",
    "\n",
    "#### !!! so that python know how to distinct the two of them when we want to search for the literal metacharacter we have to use \\ before it  !!!"
   ]
  },
  {
   "cell_type": "code",
   "execution_count": 17,
   "metadata": {},
   "outputs": [
    {
     "name": "stdout",
     "output_type": "stream",
     "text": [
      "<re.Match object; span=(149, 157), match='specific'>\n",
      "<re.Match object; span=(182, 190), match='specific'>\n"
     ]
    }
   ],
   "source": [
    "to_found = re.compile(r'specific\\.*')  # \\. search for a literal .\n",
    "for match in to_found.finditer(text):\n",
    "    print(match)"
   ]
  },
  {
   "cell_type": "code",
   "execution_count": 20,
   "metadata": {},
   "outputs": [],
   "source": [
    "to_found = re.compile(r'specific\\.+') #because there is no string with 'specific.' returns no match\n",
    "for match in to_found.finditer(text): \n",
    "    print(match)"
   ]
  },
  {
   "cell_type": "code",
   "execution_count": 21,
   "metadata": {},
   "outputs": [
    {
     "name": "stdout",
     "output_type": "stream",
     "text": [
      "<re.Match object; span=(21, 24), match='reg'>\n",
      "<re.Match object; span=(30, 33), match='reg'>\n"
     ]
    }
   ],
   "source": [
    "to_found = re.compile(r'reg{1}')\n",
    "for match in to_found.finditer(text): \n",
    "    print(match)"
   ]
  },
  {
   "cell_type": "code",
   "execution_count": 28,
   "metadata": {},
   "outputs": [
    {
     "name": "stdout",
     "output_type": "stream",
     "text": [
      "<re.Match object; span=(21, 24), match='reg'>\n",
      "<re.Match object; span=(30, 33), match='reg'>\n"
     ]
    }
   ],
   "source": [
    "to_found = re.compile(r'reg{1,}')\n",
    "for match in to_found.finditer(text): \n",
    "    print(match)"
   ]
  },
  {
   "cell_type": "code",
   "execution_count": 30,
   "metadata": {},
   "outputs": [],
   "source": [
    "to_found = re.compile(r'reg{2}')  # there is no 'regg'  in the text\n",
    "for match in to_found.finditer(text): \n",
    "    print(match)"
   ]
  },
  {
   "cell_type": "code",
   "execution_count": 32,
   "metadata": {},
   "outputs": [
    {
     "name": "stdout",
     "output_type": "stream",
     "text": [
      "<re.Match object; span=(30, 37), match='regexp)'>\n"
     ]
    }
   ],
   "source": [
    "to_found = re.compile(r'regexp\\)*')  # \\)   search for a literal )\n",
    "for match in to_found.finditer(text): \n",
    "    print(match)"
   ]
  },
  {
   "cell_type": "code",
   "execution_count": 33,
   "metadata": {},
   "outputs": [
    {
     "name": "stdout",
     "output_type": "stream",
     "text": [
      "<re.Match object; span=(11, 13), match='re'>\n",
      "<re.Match object; span=(21, 25), match='rege'>\n",
      "<re.Match object; span=(30, 34), match='rege'>\n",
      "<re.Match object; span=(44, 46), match='re'>\n",
      "<re.Match object; span=(51, 53), match='re'>\n",
      "<re.Match object; span=(133, 135), match='re'>\n"
     ]
    }
   ],
   "source": [
    "to_found = re.compile(r're(ge)*')  # search string containg  're' followed by zero or more 'ge'\n",
    "for match in to_found.finditer(text): \n",
    "    print(match)"
   ]
  },
  {
   "cell_type": "code",
   "execution_count": 35,
   "metadata": {},
   "outputs": [
    {
     "name": "stdout",
     "output_type": "stream",
     "text": [
      "<re.Match object; span=(21, 25), match='rege'>\n",
      "<re.Match object; span=(30, 34), match='rege'>\n"
     ]
    }
   ],
   "source": [
    "to_found = re.compile(r're(ge)+') \n",
    "for match in to_found.finditer(text): \n",
    "    print(match)"
   ]
  },
  {
   "cell_type": "code",
   "execution_count": 41,
   "metadata": {},
   "outputs": [
    {
     "name": "stdout",
     "output_type": "stream",
     "text": [
      "<re.Match object; span=(48, 51), match='ext'>\n",
      "<re.Match object; span=(68, 71), match='ext'>\n",
      "<re.Match object; span=(103, 106), match='ext'>\n"
     ]
    }
   ],
   "source": [
    "to_found = re.compile(r'e(xt)+') \n",
    "for match in to_found.finditer(text): \n",
    "    print(match)"
   ]
  },
  {
   "cell_type": "code",
   "execution_count": 42,
   "metadata": {},
   "outputs": [],
   "source": [
    "text = \"\"\"Regular expressions (regex or regexp). 123 are \\extremely useful in extracting information \n",
    "from @any text by searching for one or more matches of a specific search pattern \n",
    "(i.e. a specific sequence of ASCII or unicode characters).\"\"\""
   ]
  },
  {
   "cell_type": "code",
   "execution_count": 45,
   "metadata": {},
   "outputs": [
    {
     "name": "stdout",
     "output_type": "stream",
     "text": [
      "<re.Match object; span=(151, 155), match='ecif'>\n"
     ]
    }
   ],
   "source": [
    "to_found = re.compile(r'ec(if)+') ## don't forget the difference between the re methods\n",
    "print(to_found.search(text))"
   ]
  },
  {
   "cell_type": "code",
   "execution_count": 43,
   "metadata": {},
   "outputs": [
    {
     "name": "stdout",
     "output_type": "stream",
     "text": [
      "<re.Match object; span=(151, 155), match='ecif'>\n",
      "<re.Match object; span=(184, 188), match='ecif'>\n"
     ]
    }
   ],
   "source": [
    "to_found = re.compile(r'ec(if)+') \n",
    "for match in to_found.finditer(text): \n",
    "    print(match)"
   ]
  },
  {
   "cell_type": "code",
   "execution_count": null,
   "metadata": {},
   "outputs": [],
   "source": []
  }
 ],
 "metadata": {
  "kernelspec": {
   "display_name": "Python 3",
   "language": "python",
   "name": "python3"
  },
  "language_info": {
   "codemirror_mode": {
    "name": "ipython",
    "version": 3
   },
   "file_extension": ".py",
   "mimetype": "text/x-python",
   "name": "python",
   "nbconvert_exporter": "python",
   "pygments_lexer": "ipython3",
   "version": "3.8.2"
  }
 },
 "nbformat": 4,
 "nbformat_minor": 4
}
