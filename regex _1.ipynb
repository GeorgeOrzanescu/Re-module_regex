{
 "cells": [
  {
   "cell_type": "markdown",
   "metadata": {},
   "source": [
    "# Anchors — ^ and $\n",
    "\n",
    "\n",
    "    -^The        matches any string that starts with The \n",
    "    -end$        matches a string that ends with end\n",
    "-^The end$   exact string match (starts and ends with The end)\n",
    "    -roar        matches any string that has the text roar in it"
   ]
  },
  {
   "cell_type": "code",
   "execution_count": 162,
   "metadata": {},
   "outputs": [],
   "source": [
    "text = \"\"\"Regular expressions (regex or regexp). 123 are \\extremely useful in extracting information\n",
    "from @any text by searching for one or more matches of a specific search pattern \n",
    "(i.e. a specific sequence of ASCII or unicode characters).\"\"\""
   ]
  },
  {
   "cell_type": "markdown",
   "metadata": {},
   "source": [
    "#### re.compile() also accepts an optional flags argument, used to enable various special features and syntax variations.\n",
    "\n",
    "#### p = re.compile('ab*', re.IGNORECASE)"
   ]
  },
  {
   "cell_type": "code",
   "execution_count": 163,
   "metadata": {},
   "outputs": [],
   "source": [
    "import re"
   ]
  },
  {
   "cell_type": "code",
   "execution_count": 164,
   "metadata": {},
   "outputs": [
    {
     "name": "stdout",
     "output_type": "stream",
     "text": [
      "<re.Match object; span=(0, 2), match='Re'>\n"
     ]
    }
   ],
   "source": [
    "to_find = re.compile(r'^Re')\n",
    "print(to_find.match(text))"
   ]
  },
  {
   "cell_type": "code",
   "execution_count": 165,
   "metadata": {},
   "outputs": [
    {
     "name": "stdout",
     "output_type": "stream",
     "text": [
      "['Re']\n"
     ]
    }
   ],
   "source": [
    "to_find = re.compile(r'^Re')\n",
    "print(to_find.findall(text))"
   ]
  },
  {
   "cell_type": "code",
   "execution_count": 166,
   "metadata": {},
   "outputs": [
    {
     "name": "stdout",
     "output_type": "stream",
     "text": [
      "<re.Match object; span=(0, 2), match='Re'>\n"
     ]
    }
   ],
   "source": [
    "to_find = re.compile(r'^Re')\n",
    "print(to_find.search(text))"
   ]
  },
  {
   "cell_type": "code",
   "execution_count": 167,
   "metadata": {},
   "outputs": [
    {
     "name": "stdout",
     "output_type": "stream",
     "text": [
      "<re.Match object; span=(0, 2), match='Re'>\n"
     ]
    }
   ],
   "source": [
    "to_find = re.compile(r'^Re')\n",
    "items_found = to_find.finditer(text)\n",
    "for item in items_found:\n",
    "    print(item)"
   ]
  },
  {
   "cell_type": "markdown",
   "metadata": {},
   "source": [
    "## match()   ----  Determine if the RE matches at the beginning of the string"
   ]
  },
  {
   "cell_type": "code",
   "execution_count": 168,
   "metadata": {},
   "outputs": [
    {
     "name": "stdout",
     "output_type": "stream",
     "text": [
      "None\n"
     ]
    }
   ],
   "source": [
    "to_find = re.compile(r'\\.')\n",
    "print(to_find.match(text))"
   ]
  },
  {
   "cell_type": "code",
   "execution_count": 169,
   "metadata": {},
   "outputs": [
    {
     "name": "stdout",
     "output_type": "stream",
     "text": [
      "<re.Match object; span=(0, 7), match='Regular'>\n"
     ]
    }
   ],
   "source": [
    "to_find = re.compile(r'^Regular')\n",
    "print(to_find.search(text))"
   ]
  },
  {
   "cell_type": "code",
   "execution_count": 170,
   "metadata": {},
   "outputs": [
    {
     "name": "stdout",
     "output_type": "stream",
     "text": [
      "<re.Match object; span=(0, 7), match='Regular'>\n"
     ]
    }
   ],
   "source": [
    "to_find = re.compile(r'Regular')\n",
    "print(to_find.match(text))"
   ]
  },
  {
   "cell_type": "markdown",
   "metadata": {},
   "source": [
    "#### using ^ with  match is pointless because they do the same thing"
   ]
  },
  {
   "cell_type": "code",
   "execution_count": 171,
   "metadata": {},
   "outputs": [
    {
     "name": "stdout",
     "output_type": "stream",
     "text": [
      "<re.Match object; span=(37, 38), match='.'>\n"
     ]
    }
   ],
   "source": [
    "to_find = re.compile(r'\\.')   #we get the first occurance of . in text\n",
    "print(to_find.search(text))"
   ]
  },
  {
   "cell_type": "markdown",
   "metadata": {},
   "source": [
    "## The search() function searches the string for a match, and returns a Match object if there is a match.\n",
    "\n",
    "#### !!If there is more than one match, only the first occurrence of the match will be returned"
   ]
  },
  {
   "cell_type": "code",
   "execution_count": 172,
   "metadata": {},
   "outputs": [
    {
     "name": "stdout",
     "output_type": "stream",
     "text": [
      "<re.Match object; span=(230, 231), match='.'>\n"
     ]
    }
   ],
   "source": [
    "to_find = re.compile(r'\\.$')  # we get the first and only result \n",
    "print(to_find.search(text))"
   ]
  },
  {
   "cell_type": "code",
   "execution_count": 173,
   "metadata": {},
   "outputs": [
    {
     "name": "stdout",
     "output_type": "stream",
     "text": [
      "None\n"
     ]
    }
   ],
   "source": [
    "to_find = re.compile(r'^Regular$')  \n",
    "print(to_find.search(text))\n",
    "\n",
    "word = 'word'"
   ]
  },
  {
   "cell_type": "code",
   "execution_count": 174,
   "metadata": {},
   "outputs": [
    {
     "name": "stdout",
     "output_type": "stream",
     "text": [
      "<re.Match object; span=(0, 4), match='word'>\n"
     ]
    }
   ],
   "source": [
    "to_find = re.compile(r'^word$') \n",
    "print(to_find.search(word))"
   ]
  },
  {
   "cell_type": "code",
   "execution_count": 175,
   "metadata": {},
   "outputs": [
    {
     "name": "stdout",
     "output_type": "stream",
     "text": [
      "['or', 'or', 'or', 'or', 'or', 'or']\n"
     ]
    }
   ],
   "source": [
    "to_find = re.compile(r'or') \n",
    "print(to_find.findall(text))"
   ]
  },
  {
   "cell_type": "markdown",
   "metadata": {},
   "source": [
    "## findall()   Find all substrings where the RE matches, and returns them as a list."
   ]
  },
  {
   "cell_type": "code",
   "execution_count": null,
   "metadata": {},
   "outputs": [],
   "source": []
  }
 ],
 "metadata": {
  "kernelspec": {
   "display_name": "Python 3",
   "language": "python",
   "name": "python3"
  },
  "language_info": {
   "codemirror_mode": {
    "name": "ipython",
    "version": 3
   },
   "file_extension": ".py",
   "mimetype": "text/x-python",
   "name": "python",
   "nbconvert_exporter": "python",
   "pygments_lexer": "ipython3",
   "version": "3.8.2"
  }
 },
 "nbformat": 4,
 "nbformat_minor": 4
}
