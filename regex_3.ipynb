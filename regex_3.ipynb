{
 "cells": [
  {
   "cell_type": "markdown",
   "metadata": {},
   "source": [
    "# OR operator — | or []\n",
    "    a(b|c)     matches a string that has a followed by b or c (and captures b or c) \n",
    "    a[bc]      same as previous, but without capturing b or c"
   ]
  },
  {
   "cell_type": "code",
   "execution_count": 32,
   "metadata": {},
   "outputs": [],
   "source": [
    "import re"
   ]
  },
  {
   "cell_type": "code",
   "execution_count": 68,
   "metadata": {},
   "outputs": [],
   "source": [
    "text = \"\"\"Regular expressions (regex or retexp or rex). 123 are \\extremely useful in extracting information \n",
    "from @any text by searching for one or more matches of a specific search pattern \n",
    "(i.e. a specific sequence of ASCII or unicode characters).\"\"\""
   ]
  },
  {
   "cell_type": "code",
   "execution_count": 51,
   "metadata": {},
   "outputs": [
    {
     "name": "stdout",
     "output_type": "stream",
     "text": [
      "<re.Match object; span=(21, 24), match='reg'>\n",
      "<re.Match object; span=(30, 33), match='ret'>\n"
     ]
    }
   ],
   "source": [
    "to_found = re.compile(r're(g|t)')\n",
    "for match in to_found.finditer(text):\n",
    "    print(match)"
   ]
  },
  {
   "cell_type": "code",
   "execution_count": 55,
   "metadata": {},
   "outputs": [
    {
     "name": "stdout",
     "output_type": "stream",
     "text": [
      "<re.Match object; span=(8, 11), match='exp'>\n",
      "<re.Match object; span=(33, 36), match='exp'>\n",
      "<re.Match object; span=(48, 51), match='ext'>\n",
      "<re.Match object; span=(68, 71), match='ext'>\n",
      "<re.Match object; span=(103, 106), match='ext'>\n",
      "None\n"
     ]
    }
   ],
   "source": [
    "to_found = re.compile(r'ex[pt]')\n",
    "for match in to_found.finditer(text):\n",
    "    print(match)"
   ]
  },
  {
   "cell_type": "code",
   "execution_count": 57,
   "metadata": {},
   "outputs": [
    {
     "name": "stdout",
     "output_type": "stream",
     "text": [
      "<re.Match object; span=(8, 11), match='exp'>\n",
      "<re.Match object; span=(33, 36), match='exp'>\n",
      "<re.Match object; span=(48, 51), match='ext'>\n",
      "<re.Match object; span=(68, 71), match='ext'>\n",
      "<re.Match object; span=(103, 106), match='ext'>\n"
     ]
    }
   ],
   "source": [
    "to_found = re.compile(r'ex([p]|[t])')\n",
    "for match in to_found.finditer(text):  # this all gives the same result\n",
    "    print(match)"
   ]
  },
  {
   "cell_type": "code",
   "execution_count": 72,
   "metadata": {},
   "outputs": [
    {
     "name": "stdout",
     "output_type": "stream",
     "text": [
      "<re.Match object; span=(21, 24), match='reg'>\n",
      "<re.Match object; span=(30, 33), match='ret'>\n",
      "<re.Match object; span=(40, 43), match='rex'>\n"
     ]
    }
   ],
   "source": [
    "to_found = re.compile(r're(g|t|x)')   #works also with more then 3 letters\n",
    "for match in to_found.finditer(text):\n",
    "    print(match)"
   ]
  },
  {
   "cell_type": "code",
   "execution_count": 71,
   "metadata": {},
   "outputs": [
    {
     "name": "stdout",
     "output_type": "stream",
     "text": [
      "<re.Match object; span=(21, 24), match='reg'>\n",
      "<re.Match object; span=(30, 33), match='ret'>\n",
      "<re.Match object; span=(40, 43), match='rex'>\n"
     ]
    }
   ],
   "source": [
    "to_found = re.compile(r're[gxt]')\n",
    "for match in to_found.finditer(text):\n",
    "    print(match)"
   ]
  },
  {
   "cell_type": "markdown",
   "metadata": {},
   "source": [
    "## [] denotes a character class. () denotes a capturing group.\n",
    "\n",
    "## [a-z0-9] -- One character that is in the range of a-z OR 0-9\n",
    "\n",
    "## (a-z0-9) -- Explicit capture of a-z0-9. No ranges."
   ]
  },
  {
   "cell_type": "code",
   "execution_count": 79,
   "metadata": {},
   "outputs": [],
   "source": [
    "to_found = re.compile(r're(gt)')  # u can see that without |  it will not work in group\n",
    "for match in to_found.finditer(text):\n",
    "    print(match)"
   ]
  },
  {
   "cell_type": "code",
   "execution_count": 77,
   "metadata": {},
   "outputs": [
    {
     "name": "stdout",
     "output_type": "stream",
     "text": [
      "<re.Match object; span=(21, 24), match='reg'>\n",
      "<re.Match object; span=(30, 33), match='ret'>\n"
     ]
    }
   ],
   "source": [
    "to_found = re.compile(r're[gt]')  \n",
    "for match in to_found.finditer(text):\n",
    "    print(match)"
   ]
  },
  {
   "cell_type": "code",
   "execution_count": null,
   "metadata": {},
   "outputs": [],
   "source": []
  }
 ],
 "metadata": {
  "kernelspec": {
   "display_name": "Python 3",
   "language": "python",
   "name": "python3"
  },
  "language_info": {
   "codemirror_mode": {
    "name": "ipython",
    "version": 3
   },
   "file_extension": ".py",
   "mimetype": "text/x-python",
   "name": "python",
   "nbconvert_exporter": "python",
   "pygments_lexer": "ipython3",
   "version": "3.8.2"
  }
 },
 "nbformat": 4,
 "nbformat_minor": 4
}
